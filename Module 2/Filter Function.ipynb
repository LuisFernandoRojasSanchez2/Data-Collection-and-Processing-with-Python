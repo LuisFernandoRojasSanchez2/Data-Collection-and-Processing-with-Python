{
 "cells": [
  {
   "cell_type": "markdown",
   "metadata": {},
   "source": [
    "Write code to assign to the variable filter_testing all the elements in lst_check that have a w in them using filter."
   ]
  },
  {
   "cell_type": "code",
   "execution_count": 2,
   "metadata": {},
   "outputs": [
    {
     "name": "stdout",
     "output_type": "stream",
     "text": [
      "['watermelon', 'kiwi', 'strawberries']\n"
     ]
    }
   ],
   "source": [
    "\n",
    "lst_check = ['plums', 'watermelon', 'kiwi', 'strawberries', 'blueberries', 'peaches', 'apples', 'mangos', 'papaya']\n",
    "\n",
    "filter_testing = list(filter(lambda value:'w' in value, lst_check))\n",
    "\n",
    "print(filter_testing)"
   ]
  },
  {
   "cell_type": "markdown",
   "metadata": {},
   "source": [
    "Using filter, filter lst so that it only contains words containing the letter “o”. Assign to variable lst2. Do not hardcode this."
   ]
  },
  {
   "cell_type": "code",
   "execution_count": 3,
   "metadata": {},
   "outputs": [
    {
     "name": "stdout",
     "output_type": "stream",
     "text": [
      "['halloween', 'wagon', 'moon']\n"
     ]
    }
   ],
   "source": [
    "\n",
    "lst = [\"witch\", \"halloween\", \"pumpkin\", \"cat\", \"candy\", \"wagon\", \"moon\"]\n",
    "\n",
    "lst2 = list(filter(lambda value: 'o' in value, lst))\n",
    "\n",
    "print(lst2)"
   ]
  },
  {
   "cell_type": "code",
   "execution_count": null,
   "metadata": {},
   "outputs": [],
   "source": []
  }
 ],
 "metadata": {
  "kernelspec": {
   "display_name": "Python 3",
   "language": "python",
   "name": "python3"
  },
  "language_info": {
   "codemirror_mode": {
    "name": "ipython",
    "version": 3
   },
   "file_extension": ".py",
   "mimetype": "text/x-python",
   "name": "python",
   "nbconvert_exporter": "python",
   "pygments_lexer": "ipython3",
   "version": "3.12.4"
  }
 },
 "nbformat": 4,
 "nbformat_minor": 2
}
