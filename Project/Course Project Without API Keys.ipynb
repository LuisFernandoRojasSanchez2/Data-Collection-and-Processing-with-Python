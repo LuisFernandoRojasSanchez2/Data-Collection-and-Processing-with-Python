{
 "cells": [
  {
   "cell_type": "markdown",
   "metadata": {},
   "source": [
    "This project will take you through the process of mashing up data from two different APIs to make movie recommendations. The TasteDive API lets you provide a movie (or bands, TV shows, etc.) as a query input, and returns a set of related items. The OMDB API lets you provide a movie title as a query input and get back data about the movie, including scores from various review sites (Rotten Tomatoes, IMDB, etc.).\n",
    "\n",
    "You will put those two together. You will use TasteDive to get related movies for a whole list of titles. You’ll combine the resulting lists of related movies, and sort them according to their Rotten Tomatoes scores (which will require making API calls to the OMDB API.)\n",
    "\n",
    "To avoid problems with rate limits and site accessibility, we have provided a cache file with results for all the queries you need to make to both OMDB and TasteDive. Just use requests_with_caching.get() rather than requests.get(). If you’re having trouble, you may not be formatting your queries properly, or you may not be asking for data that exists in our cache. We will try to provide as much information as we can to help guide you to form queries for which data exists in the cache.\n",
    "\n",
    "Your first task will be to fetch data from TasteDive. The documentation for the API is at https://tastedive.com/read/api.\n",
    "\n",
    "Define a function, called get_movies_from_tastedive. It should take one input parameter, a string that is the name of a movie or music artist. The function should return the 5 TasteDive results that are associated with that string; be sure to only get movies, not other kinds of media. It will be a python dictionary with just one key, ‘Similar’.\n",
    "\n",
    "Try invoking your function with the input “Black Panther”.\n",
    "\n",
    "HINT: Be sure to include only q, type, and limit as parameters in order to extract data from the cache. If any other parameters are included, then the function will not be able to recognize the data that you’re attempting to pull from the cache. Remember, you will not need an api key in order to complete the project, because all data will be found in the cache.\n",
    "\n",
    "The cache includes data for the following queries:\n",
    "\n",
    "![alt text](image.png)"
   ]
  },
  {
   "cell_type": "code",
   "execution_count": 1,
   "metadata": {},
   "outputs": [
    {
     "data": {
      "text/plain": [
       "{'similar': {'info': [{'name': 'Tony Bennett', 'type': 'music'},\n",
       "   {'name': 'Tony Bennett', 'type': 'person'},\n",
       "   {'name': 'Tony  Bennett', 'type': 'person'}],\n",
       "  'results': [{'name': 'Bombshell', 'type': 'movie'},\n",
       "   {'name': 'Rocketman', 'type': 'movie'},\n",
       "   {'name': 'A Beautiful Day in the Neighborhood', 'type': 'movie'},\n",
       "   {'name': 'Judy', 'type': 'movie'},\n",
       "   {'name': 'On the Basis of Sex', 'type': 'movie'}]}}"
      ]
     },
     "execution_count": 1,
     "metadata": {},
     "output_type": "execute_result"
    }
   ],
   "source": [
    "import json\n",
    "import requests\n",
    "\n",
    "\n",
    "# some invocations that we use in the automated tests; uncomment these if you are getting errors and want better error messages\n",
    "# get_movies_from_tastedive(\"Bridesmaids\")\n",
    "# get_movies_from_tastedive(\"Black Panther\")\n",
    "\n",
    "def get_movies_from_tastedive(search):\n",
    "    url = \"https://tastedive.com/api/similar\"\n",
    "    param = {}\n",
    "    param['q'] = search\n",
    "    param['type'] = 'movie'\n",
    "    param['limit'] = 5\n",
    "    param['k'] = 'Your API key here'\n",
    "    result = requests.get(url, params=param)\n",
    "    return json.loads(result.text)\n",
    "\n",
    "\n",
    "#get_movies_from_tastedive('Black Panther')\n",
    "get_movies_from_tastedive(\"Tony Bennett\")"
   ]
  },
  {
   "cell_type": "markdown",
   "metadata": {},
   "source": [
    "Please copy the completed function from above into this active code window. Next, you will need to write a function that extracts just the list of movie titles from a dictionary returned by get_movies_from_tastedive. Call it extract_movie_titles."
   ]
  },
  {
   "cell_type": "code",
   "execution_count": 2,
   "metadata": {},
   "outputs": [
    {
     "data": {
      "text/plain": [
       "['Bombshell',\n",
       " 'Rocketman',\n",
       " 'A Beautiful Day in the Neighborhood',\n",
       " 'Judy',\n",
       " 'On the Basis of Sex']"
      ]
     },
     "execution_count": 2,
     "metadata": {},
     "output_type": "execute_result"
    }
   ],
   "source": [
    "def get_movies_from_tastedive(search):\n",
    "    url = \"https://tastedive.com/api/similar\"\n",
    "    param = {}\n",
    "    param['q'] = search\n",
    "    param['type'] = 'movie'\n",
    "    param['limit'] = 5\n",
    "    param['k'] = 'Your API key here'\n",
    "    result = requests.get(url, params=param)\n",
    "    return json.loads(result.text)\n",
    "\n",
    "\n",
    "# some invocations that we use in the automated tests; uncomment these if you are getting errors and want better error messages\n",
    "# extract_movie_titles(get_movies_from_tastedive(\"Tony Bennett\"))\n",
    "# extract_movie_titles(get_movies_from_tastedive(\"Black Panther\"))\n",
    "\n",
    "def extract_movie_titles(dicts):\n",
    "    movie_titles = []\n",
    "    for result in dicts['similar']['results']:\n",
    "        movie_titles.append(result['name'])\n",
    "    return movie_titles\n",
    "\n",
    "#extract_movie_titles(get_movies_from_tastedive(\"Black Panther\"))\n",
    "extract_movie_titles(get_movies_from_tastedive(\"Tony Bennett\"))"
   ]
  },
  {
   "cell_type": "markdown",
   "metadata": {},
   "source": [
    "Please copy the completed functions from the two code windows above into this active code window. Next, you’ll write a function, called get_related_titles. It takes a list of movie titles as input. It gets five related movies for each from TasteDive, extracts the titles for all of them, and combines them all into a single list. Don’t include the same movie twice."
   ]
  },
  {
   "cell_type": "code",
   "execution_count": 3,
   "metadata": {},
   "outputs": [
    {
     "data": {
      "text/plain": [
       "['Knives Out',\n",
       " 'Avengers: Endgame',\n",
       " 'AK vs AK',\n",
       " 'Spider-Man: Far from Home',\n",
       " 'Venom',\n",
       " 'Ant-Man and the Wasp',\n",
       " 'Avengers: Infinity War',\n",
       " 'Dil Bechara',\n",
       " 'Uri: The Surgical Strike',\n",
       " 'Mardaani 2']"
      ]
     },
     "execution_count": 3,
     "metadata": {},
     "output_type": "execute_result"
    }
   ],
   "source": [
    "def get_movies_from_tastedive(search):\n",
    "    url = \"https://tastedive.com/api/similar\"\n",
    "    param = {}\n",
    "    param['q'] = search\n",
    "    param['type'] = 'movie'\n",
    "    param['limit'] = 5\n",
    "    param['k'] = 'Your API key here'\n",
    "    result = requests.get(url, params=param)\n",
    "    return json.loads(result.text)\n",
    "\n",
    "def extract_movie_titles(dicts):\n",
    "    movie_titles = []\n",
    "    for result in dicts['similar']['results']:\n",
    "        movie_titles.append(result['name'])\n",
    "    return movie_titles\n",
    "\n",
    "\n",
    "# some invocations that we use in the automated tests; uncomment these if you are getting errors and want better error messages\n",
    "# get_related_titles([\"Black Panther\", \"Captain Marvel\"])\n",
    "# get_related_titles([])\n",
    "\n",
    "def get_related_titles(title_list):\n",
    "    related_titles = []\n",
    "    for title in title_list:\n",
    "        related_titles.extend(extract_movie_titles(get_movies_from_tastedive(title))) #Extend makes it so it's one huge list instead of one list per movie title\n",
    "    return list(set(related_titles)) #Set takes care of duplicates (its one of the data types built in python) and we convert it back to a list because is the type that the program is expecting\n",
    "\n",
    "get_related_titles([\"Black Panther\", \"Captain Marvel\"])\n",
    "#get_related_titles([])"
   ]
  },
  {
   "cell_type": "markdown",
   "metadata": {},
   "source": [
    "Your next task will be to fetch data from OMDB. The documentation for the API is at https://www.omdbapi.com/\n",
    "\n",
    "Define a function called get_movie_data. It takes in one parameter which is a string that should represent the title of a movie you want to search. The function should return a dictionary with information about that movie.\n",
    "\n",
    "For the queries on movies that are already in the cache, you won’t need an api key. You will need to provide the following keys: t and r. As with the TasteDive cache, be sure to only include those two parameters in order to extract existing data from the cache."
   ]
  },
  {
   "cell_type": "code",
   "execution_count": 4,
   "metadata": {},
   "outputs": [
    {
     "data": {
      "text/plain": [
       "{'Title': 'Deadpool & Wolverine',\n",
       " 'Year': '2024',\n",
       " 'Rated': 'R',\n",
       " 'Released': '26 Jul 2024',\n",
       " 'Runtime': '128 min',\n",
       " 'Genre': 'Action, Adventure, Comedy',\n",
       " 'Director': 'Shawn Levy',\n",
       " 'Writer': 'Ryan Reynolds, Rhett Reese, Paul Wernick',\n",
       " 'Actors': 'Ryan Reynolds, Hugh Jackman, Emma Corrin',\n",
       " 'Plot': 'Deadpool is offered a place in the Marvel Cinematic Universe by the Time Variance Authority, but instead recruits a variant of Wolverine to save his universe from extinction.',\n",
       " 'Language': 'English, French, Spanish',\n",
       " 'Country': 'United States, United Kingdom, Australia, New Zealand, Canada',\n",
       " 'Awards': '4 wins & 1 nomination',\n",
       " 'Poster': 'https://m.media-amazon.com/images/M/MV5BZmQxZWM5MzgtY2EzZC00OGUxLWE0Y2EtMDIwOTFlNmQ5MWMyXkEyXkFqcGc@._V1_SX300.jpg',\n",
       " 'Ratings': [{'Source': 'Internet Movie Database', 'Value': '8.0/10'},\n",
       "  {'Source': 'Rotten Tomatoes', 'Value': '78%'}],\n",
       " 'Metascore': 'N/A',\n",
       " 'imdbRating': '8.0',\n",
       " 'imdbVotes': '266,068',\n",
       " 'imdbID': 'tt6263850',\n",
       " 'Type': 'movie',\n",
       " 'DVD': 'N/A',\n",
       " 'BoxOffice': '$605,188,101',\n",
       " 'Production': 'N/A',\n",
       " 'Website': 'N/A',\n",
       " 'Response': 'True'}"
      ]
     },
     "execution_count": 4,
     "metadata": {},
     "output_type": "execute_result"
    }
   ],
   "source": [
    "\n",
    "# some invocations that we use in the automated tests; uncomment these if you are getting errors and want better error messages\n",
    "# get_movie_data(\"Venom\")\n",
    "# get_movie_data(\"Baby Mama\")\n",
    "\n",
    "def get_movie_data(movie_title):\n",
    "    url = 'http://www.omdbapi.com/?apikey=[YourAPIKey]'\n",
    "    # The documentation will put it like [YourAPIKey]& but the & will be added when you do requests.get() so don't put it here or else it won't work, it will give you a response 401, \n",
    "    # which means unauthorized, so basically the API says that your key is invalid, also check the email for the API Key and make sure you activate it.\n",
    "    param = {}\n",
    "    param['t'] = movie_title\n",
    "    param['r'] = 'json'\n",
    "    results = requests.get(url, params=param)\n",
    "    return json.loads(results.text)\n",
    "\n",
    "get_movie_data('Deadpool & Wolverine')"
   ]
  },
  {
   "cell_type": "markdown",
   "metadata": {},
   "source": [
    "Please copy the completed function from above into this active code window. Now write a function called get_movie_rating. It takes an OMDB dictionary result for one movie and extracts the Rotten Tomatoes rating as an integer. For example, if given the OMDB dictionary for “Black Panther”, it would return 97. If there is no Rotten Tomatoes rating, return 0."
   ]
  },
  {
   "cell_type": "code",
   "execution_count": 5,
   "metadata": {},
   "outputs": [
    {
     "data": {
      "text/plain": [
       "96"
      ]
     },
     "execution_count": 5,
     "metadata": {},
     "output_type": "execute_result"
    }
   ],
   "source": [
    "def get_movie_data(movie_title):\n",
    "    url = 'http://www.omdbapi.com/?apikey=[YourAPIKey]'\n",
    "    # The documentation will put it like [YourAPIKey]& but the & will be added when you do requests.get() so don't put it here or else it won't work, it will give you a response 401, \n",
    "    # which means unauthorized, so basically the API says that your key is invalid, also check the email for the API Key and make sure you activate it.\n",
    "    param = {}\n",
    "    param['t'] = movie_title\n",
    "    param['r'] = 'json'\n",
    "    results = requests.get(url, params=param)\n",
    "    return json.loads(results.text)\n",
    "\n",
    "\n",
    "# some invocations that we use in the automated tests; uncomment these if you are getting errors and want better error messages\n",
    "# get_movie_rating(get_movie_data(\"Deadpool 2\"))\n",
    "\n",
    "def get_movie_rating(movie_dict):\n",
    "    for critic in movie_dict['Ratings']:\n",
    "        if critic['Source'] == 'Rotten Tomatoes':\n",
    "            return int(critic['Value'][:-1]) #We use slicing here to get rid of the percentage which is at the end of the string, and we convert it into an int as the instructions say.\n",
    "    return 0\n",
    "\n",
    "get_movie_rating(get_movie_data('Black Panther'))"
   ]
  },
  {
   "cell_type": "markdown",
   "metadata": {},
   "source": [
    "Now, you’ll put it all together. Don’t forget to copy all of the functions that you have previously defined into this code window. Define a function get_sorted_recommendations. It takes a list of movie titles as an input. It returns a sorted list of related movie titles as output, up to five related movies for each input movie title. The movies should be sorted in descending order by their Rotten Tomatoes rating, as returned by the get_movie_rating function. Break ties in reverse alphabetic order, so that ‘Yahşi Batı’ comes before ‘Eyyvah Eyvah’."
   ]
  },
  {
   "cell_type": "code",
   "execution_count": 14,
   "metadata": {},
   "outputs": [
    {
     "data": {
      "text/plain": [
       "['Till',\n",
       " 'Thoroughbreds',\n",
       " 'The King of Staten Island',\n",
       " 'The Hunt',\n",
       " 'The Farewell',\n",
       " 'The Conjuring',\n",
       " 'The Art of Self-Defense',\n",
       " 'Sinister',\n",
       " 'Promising Young Woman',\n",
       " 'Priscilla',\n",
       " 'Palm Springs',\n",
       " 'Official Competition',\n",
       " 'Late Night',\n",
       " 'Kajillionaire',\n",
       " 'Irresistible',\n",
       " 'Insidious: Chapter 3',\n",
       " 'Insidious: Chapter 2',\n",
       " 'I Care a Lot',\n",
       " 'Emergency',\n",
       " 'Dead Silence',\n",
       " 'Brittany Runs a Marathon',\n",
       " 'Bombshell',\n",
       " 'A Beautiful Day in the Neighborhood']"
      ]
     },
     "execution_count": 14,
     "metadata": {},
     "output_type": "execute_result"
    }
   ],
   "source": [
    "def get_movies_from_tastedive(search):\n",
    "    url = \"https://tastedive.com/api/similar\"\n",
    "    param = {}\n",
    "    param['q'] = search\n",
    "    param['type'] = 'movie'\n",
    "    param['limit'] = 5\n",
    "    param['k'] = 'Your API key here'\n",
    "    result = requests.get(url, params=param)\n",
    "    return json.loads(result.text)\n",
    "\n",
    "def extract_movie_titles(dicts):\n",
    "    movie_titles = []\n",
    "    for result in dicts['similar']['results']:\n",
    "        movie_titles.append(result['name'])\n",
    "    return movie_titles\n",
    "\n",
    "def get_related_titles(title_list):\n",
    "    related_titles = []\n",
    "    for title in title_list:\n",
    "        related_titles.extend(extract_movie_titles(get_movies_from_tastedive(title))) #Extend makes it so it's one huge list instead of one list per movie title\n",
    "    return list(set(related_titles)) #Set takes care of duplicates (its one of the data types built in python) and we convert it back to a list because is the type that the program is expecting\n",
    "\n",
    "\n",
    "def get_movie_data(movie_title):\n",
    "    url = 'http://www.omdbapi.com/?apikey=[YourAPIKey]'\n",
    "    #The documentation will put it like [YourAPIKey]& but the & will be added when you do requests.get() so don't put it here or else it won't work, it will give you a response 401, \n",
    "    # which means unauthorized, so basically the API says that your key is invalid, also check the email for the API Key and make sure you activate it.\n",
    "    param = {}\n",
    "    param['t'] = movie_title\n",
    "    param['r'] = 'json'\n",
    "    results = requests.get(url, params=param)\n",
    "    return json.loads(results.text)\n",
    "\n",
    "def get_movie_rating(movie_dict):\n",
    "    for critic in movie_dict['Ratings']:\n",
    "        if critic['Source'] == 'Rotten Tomatoes':\n",
    "            return int(critic['Value'][:-1]) #We use slicing here to get rid of the percentage which is at the end of the string, and we convert it into an int as the instructions say.\n",
    "    return 0\n",
    "\n",
    "# some invocations that we use in the automated tests; uncomment these if you are getting errors and want better error messages\n",
    "# get_sorted_recommendations([\"Bridesmaids\", \"Sherlock Holmes\"])\n",
    "\n",
    "def get_sorted_recommendations(movie_list):\n",
    "    recommendations = {}\n",
    "    related_titles = get_related_titles(movie_list)\n",
    "    for title in related_titles:\n",
    "        recommendations[title] = get_movie_rating(get_movie_data(title))\n",
    "\n",
    "    return [i[0] for i in sorted(recommendations.items(), key= lambda item: (item[0], item[1]), reverse=True)] #We return a list with the names of the movies, we use list comprehension and we iterate through a sor\n",
    "    # Here we return a list of the movie titles that are recommended in a sorted way\n",
    "    # We use sorted() (this gives us back a list of sorted list of the specified iterable object) to iterate through the items of the dictionary recommendations, \n",
    "    # recommendations.items() gives us a list of tuples, each tuple contains the title and the rating score respectively\n",
    "    # the key is the same tuple, we do this so the sorted() function first orders it by movie title and then by movie score, \n",
    "    # and finally we put reverse=True so that it's ordered from Z to A.\n",
    "\n",
    "\n",
    "#get_sorted_recommendations(['Black Panther'])\n",
    "#get_sorted_recommendations([\"Bridesmaids\", \"Sherlock Holmes\"])\n",
    "get_sorted_recommendations(['Thelma', 'Good One', 'Wolfs', 'Late Night With The Devil', 'Insidious'])"
   ]
  }
 ],
 "metadata": {
  "kernelspec": {
   "display_name": "Python 3",
   "language": "python",
   "name": "python3"
  },
  "language_info": {
   "codemirror_mode": {
    "name": "ipython",
    "version": 3
   },
   "file_extension": ".py",
   "mimetype": "text/x-python",
   "name": "python",
   "nbconvert_exporter": "python",
   "pygments_lexer": "ipython3",
   "version": "3.12.4"
  }
 },
 "nbformat": 4,
 "nbformat_minor": 2
}
